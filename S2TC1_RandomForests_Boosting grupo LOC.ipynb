{
 "cells": [
  {
   "cell_type": "markdown",
   "metadata": {},
   "source": [
    "![image info](https://raw.githubusercontent.com/albahnsen/MIAD_ML_and_NLP/main/images/banner_1.png)"
   ]
  },
  {
   "cell_type": "markdown",
   "metadata": {},
   "source": [
    "# Taller: Construcción e implementación de modelos Bagging, Random Forest y XGBoost\n",
    "\n",
    "En este taller podrán poner en práctica sus conocimientos sobre la construcción e implementación de modelos de Bagging, Random Forest y XGBoost. El taller está constituido por 8 puntos, en los cuales deberan seguir las intrucciones de cada numeral para su desarrollo."
   ]
  },
  {
   "cell_type": "markdown",
   "metadata": {},
   "source": [
    "## Datos predicción precio de automóviles\n",
    "\n",
    "En este taller se usará el conjunto de datos de Car Listings de Kaggle donde cada observación representa el precio de un automóvil teniendo en cuenta distintas variables como año, marca, modelo, entre otras. El objetivo es predecir el precio del automóvil. Para más detalles puede visitar el siguiente enlace: [datos](https://www.kaggle.com/jpayne/852k-used-car-listings)."
   ]
  },
  {
   "cell_type": "code",
   "execution_count": 1,
   "metadata": {},
   "outputs": [],
   "source": [
    "import warnings\n",
    "warnings.filterwarnings('ignore')"
   ]
  },
  {
   "cell_type": "code",
   "execution_count": 2,
   "metadata": {},
   "outputs": [
    {
     "data": {
      "text/html": [
       "<div>\n",
       "<style scoped>\n",
       "    .dataframe tbody tr th:only-of-type {\n",
       "        vertical-align: middle;\n",
       "    }\n",
       "\n",
       "    .dataframe tbody tr th {\n",
       "        vertical-align: top;\n",
       "    }\n",
       "\n",
       "    .dataframe thead th {\n",
       "        text-align: right;\n",
       "    }\n",
       "</style>\n",
       "<table border=\"1\" class=\"dataframe\">\n",
       "  <thead>\n",
       "    <tr style=\"text-align: right;\">\n",
       "      <th></th>\n",
       "      <th>Price</th>\n",
       "      <th>Year</th>\n",
       "      <th>Mileage</th>\n",
       "      <th>M_Camry</th>\n",
       "      <th>M_Camry4dr</th>\n",
       "      <th>M_CamryBase</th>\n",
       "      <th>M_CamryL</th>\n",
       "      <th>M_CamryLE</th>\n",
       "      <th>M_CamrySE</th>\n",
       "      <th>M_CamryXLE</th>\n",
       "    </tr>\n",
       "  </thead>\n",
       "  <tbody>\n",
       "    <tr>\n",
       "      <th>7</th>\n",
       "      <td>21995</td>\n",
       "      <td>2014</td>\n",
       "      <td>6480</td>\n",
       "      <td>False</td>\n",
       "      <td>False</td>\n",
       "      <td>False</td>\n",
       "      <td>True</td>\n",
       "      <td>False</td>\n",
       "      <td>False</td>\n",
       "      <td>False</td>\n",
       "    </tr>\n",
       "    <tr>\n",
       "      <th>11</th>\n",
       "      <td>13995</td>\n",
       "      <td>2014</td>\n",
       "      <td>39972</td>\n",
       "      <td>False</td>\n",
       "      <td>False</td>\n",
       "      <td>False</td>\n",
       "      <td>False</td>\n",
       "      <td>True</td>\n",
       "      <td>False</td>\n",
       "      <td>False</td>\n",
       "    </tr>\n",
       "    <tr>\n",
       "      <th>167</th>\n",
       "      <td>17941</td>\n",
       "      <td>2016</td>\n",
       "      <td>18989</td>\n",
       "      <td>False</td>\n",
       "      <td>False</td>\n",
       "      <td>False</td>\n",
       "      <td>False</td>\n",
       "      <td>False</td>\n",
       "      <td>True</td>\n",
       "      <td>False</td>\n",
       "    </tr>\n",
       "    <tr>\n",
       "      <th>225</th>\n",
       "      <td>12493</td>\n",
       "      <td>2014</td>\n",
       "      <td>51330</td>\n",
       "      <td>False</td>\n",
       "      <td>False</td>\n",
       "      <td>False</td>\n",
       "      <td>True</td>\n",
       "      <td>False</td>\n",
       "      <td>False</td>\n",
       "      <td>False</td>\n",
       "    </tr>\n",
       "    <tr>\n",
       "      <th>270</th>\n",
       "      <td>7994</td>\n",
       "      <td>2007</td>\n",
       "      <td>116065</td>\n",
       "      <td>False</td>\n",
       "      <td>True</td>\n",
       "      <td>False</td>\n",
       "      <td>False</td>\n",
       "      <td>False</td>\n",
       "      <td>False</td>\n",
       "      <td>False</td>\n",
       "    </tr>\n",
       "  </tbody>\n",
       "</table>\n",
       "</div>"
      ],
      "text/plain": [
       "     Price  Year  Mileage  M_Camry  M_Camry4dr  M_CamryBase  M_CamryL  \\\n",
       "7    21995  2014     6480    False       False        False      True   \n",
       "11   13995  2014    39972    False       False        False     False   \n",
       "167  17941  2016    18989    False       False        False     False   \n",
       "225  12493  2014    51330    False       False        False      True   \n",
       "270   7994  2007   116065    False        True        False     False   \n",
       "\n",
       "     M_CamryLE  M_CamrySE  M_CamryXLE  \n",
       "7        False      False       False  \n",
       "11        True      False       False  \n",
       "167      False       True       False  \n",
       "225      False      False       False  \n",
       "270      False      False       False  "
      ]
     },
     "execution_count": 2,
     "metadata": {},
     "output_type": "execute_result"
    }
   ],
   "source": [
    "# Importación de librerías\n",
    "%matplotlib inline\n",
    "import pandas as pd\n",
    "import numpy as np\n",
    "from sklearn.tree import DecisionTreeRegressor\n",
    "from sklearn.model_selection import KFold\n",
    "from sklearn.metrics import mean_squared_error, mean_absolute_error\n",
    "import plotly.express as px\n",
    "from sklearn.ensemble import BaggingRegressor\n",
    "\n",
    "\n",
    "# Lectura de la información de archivo .csv\n",
    "data = pd.read_csv('https://raw.githubusercontent.com/albahnsen/MIAD_ML_and_NLP/main/datasets/dataTrain_carListings.zip')\n",
    "\n",
    "# Preprocesamiento de datos para el taller\n",
    "data = data.loc[data['Model'].str.contains('Camry')].drop(['Make', 'State'], axis=1)\n",
    "data = data.join(pd.get_dummies(data['Model'], prefix='M'))\n",
    "data = data.drop(['Model'], axis=1)\n",
    "\n",
    "# Visualización dataset\n",
    "data.head()"
   ]
  },
  {
   "cell_type": "code",
   "execution_count": 3,
   "metadata": {},
   "outputs": [],
   "source": [
    "# Separación de variables predictoras (X) y variable de interés (y)\n",
    "y = data['Price']\n",
    "X = data.drop(['Price'], axis=1)"
   ]
  },
  {
   "cell_type": "code",
   "execution_count": 4,
   "metadata": {},
   "outputs": [],
   "source": [
    "# Separación de datos en set de entrenamiento y test\n",
    "from sklearn.model_selection import train_test_split\n",
    "X_train, X_test, y_train, y_test = train_test_split(X, y, test_size=0.33, random_state=42)"
   ]
  },
  {
   "cell_type": "markdown",
   "metadata": {},
   "source": [
    "### Punto 1 - Árbol de decisión manual\n",
    "\n",
    "En la celda 1 creen un árbol de decisión **manualmente**  que considere los set de entrenamiento y test definidos anteriormente y presenten el RMSE y MAE del modelo en el set de test."
   ]
  },
  {
   "cell_type": "code",
   "execution_count": 5,
   "metadata": {
    "jupyter": {
     "source_hidden": true
    }
   },
   "outputs": [],
   "source": [
    "\"\"\"Funciones para la construcción del árbol\"\"\"\n",
    "\"\"\" Cálculo del MSE de la bifurcación \"\"\"\n",
    "def mse(y_l, y_r):\n",
    "    mse_l = np.mean((y_l - np.mean(y_l)) ** 2)\n",
    "    mse_r = np.mean((y_r - np.mean(y_r)) ** 2)\n",
    "\n",
    "    n_y_l=len(y_l)\n",
    "    n_y_r=len(y_r)\n",
    "    \n",
    "    mse_total = (n_y_l * mse_l + n_y_r * mse_r) / (n_y_l + n_y_r)\n",
    "\n",
    "    return mse_total\n",
    "\n",
    "\"\"\"Encontrar la mejor variable y bifurcación a partir del MSE\"\"\"\n",
    "def best_split(X, y):\n",
    "\n",
    "    #Se inicializan las variables para guardar lo mejor variable, bifurcación y mse\n",
    "    mejor_x, mejor_split = None, None\n",
    "    mejor_mse = float('inf')\n",
    "\n",
    "    #Se convierte a numpy array los dataframes\n",
    "    X=np.array(X)\n",
    "    y=np.array(y)\n",
    "\n",
    "    #Se recorren todas las variables predictoras del modelo\n",
    "    for x in range(X.shape[1]):\n",
    "        splits = np.unique(X[:, x])\n",
    "\n",
    "        #Se recorren todos los splits unicos de la variable\n",
    "        for s in splits:\n",
    "\n",
    "            #Se separan los datos según el split\n",
    "            lado_izquierdo = X[:, x] <= s\n",
    "            y_l = y[lado_izquierdo]\n",
    "            y_r = y[~lado_izquierdo]\n",
    "\n",
    "            #Ignorar splits con algun lado en cero\n",
    "            if len(y_l) == 0 or len(y_r) == 0:\n",
    "                continue\n",
    "            \n",
    "            #Se calcula el MSE\n",
    "            mse_actual = mse(y_l, y_r)\n",
    "\n",
    "            #Si el mse de este split es mejor se guardan\n",
    "            if mse_actual < mejor_mse:\n",
    "                mejor_mse = mse_actual\n",
    "                mejor_x = x\n",
    "                mejor_split = s\n",
    "\n",
    "    return mejor_x, mejor_split\n",
    "\n",
    "\"\"\"Crear el árbol hasta una profundidad determinada\"\"\"\n",
    "def crear_arbol(X, y, max_depth=5, depth=0):\n",
    "    \n",
    "    # Parar si la profundidad alcanzó el máximo y retornar el promedio de 'y'\n",
    "    if depth >= max_depth:\n",
    "        return {\"valor\": np.mean(y)}\n",
    "\n",
    "    # Encontrar el mejor split\n",
    "    x, split = best_split(X, y)\n",
    "\n",
    "    # Parar si el MSE  no mejora y retornar el promedio de 'y'\n",
    "    if x is None:\n",
    "        return {\"valor\": np.mean(y)}\n",
    "\n",
    "    # Bifurcar los datos\n",
    "    X=np.array(X)\n",
    "    l = X[:, x] <= split\n",
    "    r = ~l\n",
    "\n",
    "    # Contruir el arbol de forma recursiva a ambos lados\n",
    "    arbol_l = crear_arbol(X[l], y[l], max_depth, depth + 1)\n",
    "    arbol_r = crear_arbol(X[r], y[r], max_depth, depth + 1)\n",
    "\n",
    "    #Retornar el árbol izquierdo y derecho con la bifurcación\n",
    "    return {\n",
    "        \"variable\": x,\n",
    "        \"umbral\": split,\n",
    "        \"izquierda\": arbol_l,\n",
    "        \"derecha\": arbol_r\n",
    "    }\n",
    "\n",
    "\"\"\"Predecir con el árbol\"\"\"\n",
    "def predecir_arbol(X, arbol):\n",
    "    #Lista para guardar predicciones\n",
    "    predicciones = []\n",
    "    X=np.array(X)\n",
    "    #Recorrer cada una de las variables predictoras\n",
    "    for x in X:\n",
    "        nodo_actual = arbol\n",
    "\n",
    "        #Mientras no sea una hoja\n",
    "        while 'valor' not in nodo_actual:\n",
    "\n",
    "            valor_x=x[nodo_actual['variable']]\n",
    "            \n",
    "            if valor_x <= nodo_actual['umbral']:\n",
    "                nodo_actual = nodo_actual['izquierda']\n",
    "            else:\n",
    "                nodo_actual = nodo_actual['derecha']\n",
    "        \n",
    "        predicciones.append(nodo_actual['valor'])\n",
    "        \n",
    "    return predicciones"
   ]
  },
  {
   "cell_type": "code",
   "execution_count": 6,
   "metadata": {},
   "outputs": [],
   "source": [
    "\"\"\"Calibrar la profundidad del árbol con validación cruzada en la muestra de entrenamiento (aprox 10 mins)\"\"\"\n",
    "#Se crea el rango de max_depth a probar y las listas para guardar los resultados promedios de RMSE y MAE de la validación cruzada\n",
    "max_depth_range = range(1, 11)\n",
    "rmse=[]\n",
    "mae=[]\n",
    "\n",
    "#kFolds de 5 splits\n",
    "kf = KFold(n_splits=5, shuffle=True, random_state=42)\n",
    "X_train_np=np.array(X_train)\n",
    "y_train_np=np.array(y_train)\n",
    "#Para cada valor en el rango de max_depth se realiza validación cruzada. Para cada partición se entrena y se prueba el arbol y luego se calculan el RMSE y el MAE.\n",
    "for md in max_depth_range:\n",
    "\n",
    "    rmse_temp=[]\n",
    "    mae_temp=[]\n",
    "\n",
    "    #Loop para hacer la validación cruzada\n",
    "    for train_index, test_index in kf.split(X_train_np):\n",
    "        \n",
    "        X_train_temp, X_test_temp = X_train_np[train_index], X_train_np[test_index]\n",
    "        y_train_temp, y_test_temp = y_train_np[train_index], y_train_np[test_index]\n",
    "        \n",
    "        arbol=crear_arbol(X_train_temp,y_train_temp,md)\n",
    "        y_pred=predecir_arbol(X_test_temp,arbol)\n",
    "   \n",
    "        rmse_temp.append(np.sqrt(mean_squared_error(y_test_temp,y_pred)))\n",
    "        mae_temp.append(mean_absolute_error(y_test_temp,y_pred))\n",
    "\n",
    "    #El RMSE y MAE de cada valor de max_depth es el promedio de las metricas individuales de la validación cruzada\n",
    "    rmse.append(sum(rmse_temp) / len(rmse_temp))\n",
    "    mae.append(sum(mae_temp) / len(mae_temp))"
   ]
  },
  {
   "cell_type": "code",
   "execution_count": 7,
   "metadata": {},
   "outputs": [
    {
     "name": "stdout",
     "output_type": "stream",
     "text": [
      "El menor RMSE de 1613.786 se obtiene con un max depth igual a 8\n"
     ]
    }
   ],
   "source": [
    "print(f\"El menor RMSE de {min(rmse):.3f} se obtiene con un max depth igual a {rmse.index(min(rmse))+1}\")"
   ]
  },
  {
   "cell_type": "code",
   "execution_count": 8,
   "metadata": {
    "jupyter": {
     "source_hidden": true
    }
   },
   "outputs": [
    {
     "data": {
      "application/vnd.plotly.v1+json": {
       "config": {
        "plotlyServerURL": "https://plot.ly"
       },
       "data": [
        {
         "hovertemplate": "variable=RMSE<br>x=%{x}<br>value=%{y}<extra></extra>",
         "legendgroup": "RMSE",
         "line": {
          "color": "#636efa",
          "dash": "solid"
         },
         "marker": {
          "symbol": "circle"
         },
         "mode": "lines",
         "name": "RMSE",
         "orientation": "v",
         "showlegend": true,
         "type": "scatter",
         "x": {
          "bdata": "AQIDBAUGBwgJCg==",
          "dtype": "i1"
         },
         "xaxis": "x",
         "y": {
          "bdata": "HkqzZ0AgpEB38gbvCfugQFMf7RQv051AJXepnVCsm0ALEM3qJXOaQBOccyjBsZlAaIwk+tJGmUDLCEsgJTeZQDLZujqCAJpAaNS7tP36mkA=",
          "dtype": "f8"
         },
         "yaxis": "y"
        },
        {
         "hovertemplate": "variable=MAE<br>x=%{x}<br>value=%{y}<extra></extra>",
         "legendgroup": "MAE",
         "line": {
          "color": "#EF553B",
          "dash": "solid"
         },
         "marker": {
          "symbol": "circle"
         },
         "mode": "lines",
         "name": "MAE",
         "orientation": "v",
         "showlegend": true,
         "type": "scatter",
         "x": {
          "bdata": "AQIDBAUGBwgJCg==",
          "dtype": "i1"
         },
         "xaxis": "x",
         "y": {
          "bdata": "1mKGjvkkn0AGzfn2D9+ZQIJCe1dtWpZAN/6ilR2nlECiVYpdZ7uTQEwoSZiWApNAnnJzAZOPkkB3ItwiUXmSQChcEbWc+5JAeGdi5oR2k0A=",
          "dtype": "f8"
         },
         "yaxis": "y"
        }
       ],
       "layout": {
        "legend": {
         "title": {
          "text": "variable"
         },
         "tracegroupgap": 0
        },
        "template": {
         "data": {
          "bar": [
           {
            "error_x": {
             "color": "#2a3f5f"
            },
            "error_y": {
             "color": "#2a3f5f"
            },
            "marker": {
             "line": {
              "color": "#E5ECF6",
              "width": 0.5
             },
             "pattern": {
              "fillmode": "overlay",
              "size": 10,
              "solidity": 0.2
             }
            },
            "type": "bar"
           }
          ],
          "barpolar": [
           {
            "marker": {
             "line": {
              "color": "#E5ECF6",
              "width": 0.5
             },
             "pattern": {
              "fillmode": "overlay",
              "size": 10,
              "solidity": 0.2
             }
            },
            "type": "barpolar"
           }
          ],
          "carpet": [
           {
            "aaxis": {
             "endlinecolor": "#2a3f5f",
             "gridcolor": "white",
             "linecolor": "white",
             "minorgridcolor": "white",
             "startlinecolor": "#2a3f5f"
            },
            "baxis": {
             "endlinecolor": "#2a3f5f",
             "gridcolor": "white",
             "linecolor": "white",
             "minorgridcolor": "white",
             "startlinecolor": "#2a3f5f"
            },
            "type": "carpet"
           }
          ],
          "choropleth": [
           {
            "colorbar": {
             "outlinewidth": 0,
             "ticks": ""
            },
            "type": "choropleth"
           }
          ],
          "contour": [
           {
            "colorbar": {
             "outlinewidth": 0,
             "ticks": ""
            },
            "colorscale": [
             [
              0,
              "#0d0887"
             ],
             [
              0.1111111111111111,
              "#46039f"
             ],
             [
              0.2222222222222222,
              "#7201a8"
             ],
             [
              0.3333333333333333,
              "#9c179e"
             ],
             [
              0.4444444444444444,
              "#bd3786"
             ],
             [
              0.5555555555555556,
              "#d8576b"
             ],
             [
              0.6666666666666666,
              "#ed7953"
             ],
             [
              0.7777777777777778,
              "#fb9f3a"
             ],
             [
              0.8888888888888888,
              "#fdca26"
             ],
             [
              1,
              "#f0f921"
             ]
            ],
            "type": "contour"
           }
          ],
          "contourcarpet": [
           {
            "colorbar": {
             "outlinewidth": 0,
             "ticks": ""
            },
            "type": "contourcarpet"
           }
          ],
          "heatmap": [
           {
            "colorbar": {
             "outlinewidth": 0,
             "ticks": ""
            },
            "colorscale": [
             [
              0,
              "#0d0887"
             ],
             [
              0.1111111111111111,
              "#46039f"
             ],
             [
              0.2222222222222222,
              "#7201a8"
             ],
             [
              0.3333333333333333,
              "#9c179e"
             ],
             [
              0.4444444444444444,
              "#bd3786"
             ],
             [
              0.5555555555555556,
              "#d8576b"
             ],
             [
              0.6666666666666666,
              "#ed7953"
             ],
             [
              0.7777777777777778,
              "#fb9f3a"
             ],
             [
              0.8888888888888888,
              "#fdca26"
             ],
             [
              1,
              "#f0f921"
             ]
            ],
            "type": "heatmap"
           }
          ],
          "histogram": [
           {
            "marker": {
             "pattern": {
              "fillmode": "overlay",
              "size": 10,
              "solidity": 0.2
             }
            },
            "type": "histogram"
           }
          ],
          "histogram2d": [
           {
            "colorbar": {
             "outlinewidth": 0,
             "ticks": ""
            },
            "colorscale": [
             [
              0,
              "#0d0887"
             ],
             [
              0.1111111111111111,
              "#46039f"
             ],
             [
              0.2222222222222222,
              "#7201a8"
             ],
             [
              0.3333333333333333,
              "#9c179e"
             ],
             [
              0.4444444444444444,
              "#bd3786"
             ],
             [
              0.5555555555555556,
              "#d8576b"
             ],
             [
              0.6666666666666666,
              "#ed7953"
             ],
             [
              0.7777777777777778,
              "#fb9f3a"
             ],
             [
              0.8888888888888888,
              "#fdca26"
             ],
             [
              1,
              "#f0f921"
             ]
            ],
            "type": "histogram2d"
           }
          ],
          "histogram2dcontour": [
           {
            "colorbar": {
             "outlinewidth": 0,
             "ticks": ""
            },
            "colorscale": [
             [
              0,
              "#0d0887"
             ],
             [
              0.1111111111111111,
              "#46039f"
             ],
             [
              0.2222222222222222,
              "#7201a8"
             ],
             [
              0.3333333333333333,
              "#9c179e"
             ],
             [
              0.4444444444444444,
              "#bd3786"
             ],
             [
              0.5555555555555556,
              "#d8576b"
             ],
             [
              0.6666666666666666,
              "#ed7953"
             ],
             [
              0.7777777777777778,
              "#fb9f3a"
             ],
             [
              0.8888888888888888,
              "#fdca26"
             ],
             [
              1,
              "#f0f921"
             ]
            ],
            "type": "histogram2dcontour"
           }
          ],
          "mesh3d": [
           {
            "colorbar": {
             "outlinewidth": 0,
             "ticks": ""
            },
            "type": "mesh3d"
           }
          ],
          "parcoords": [
           {
            "line": {
             "colorbar": {
              "outlinewidth": 0,
              "ticks": ""
             }
            },
            "type": "parcoords"
           }
          ],
          "pie": [
           {
            "automargin": true,
            "type": "pie"
           }
          ],
          "scatter": [
           {
            "fillpattern": {
             "fillmode": "overlay",
             "size": 10,
             "solidity": 0.2
            },
            "type": "scatter"
           }
          ],
          "scatter3d": [
           {
            "line": {
             "colorbar": {
              "outlinewidth": 0,
              "ticks": ""
             }
            },
            "marker": {
             "colorbar": {
              "outlinewidth": 0,
              "ticks": ""
             }
            },
            "type": "scatter3d"
           }
          ],
          "scattercarpet": [
           {
            "marker": {
             "colorbar": {
              "outlinewidth": 0,
              "ticks": ""
             }
            },
            "type": "scattercarpet"
           }
          ],
          "scattergeo": [
           {
            "marker": {
             "colorbar": {
              "outlinewidth": 0,
              "ticks": ""
             }
            },
            "type": "scattergeo"
           }
          ],
          "scattergl": [
           {
            "marker": {
             "colorbar": {
              "outlinewidth": 0,
              "ticks": ""
             }
            },
            "type": "scattergl"
           }
          ],
          "scattermap": [
           {
            "marker": {
             "colorbar": {
              "outlinewidth": 0,
              "ticks": ""
             }
            },
            "type": "scattermap"
           }
          ],
          "scattermapbox": [
           {
            "marker": {
             "colorbar": {
              "outlinewidth": 0,
              "ticks": ""
             }
            },
            "type": "scattermapbox"
           }
          ],
          "scatterpolar": [
           {
            "marker": {
             "colorbar": {
              "outlinewidth": 0,
              "ticks": ""
             }
            },
            "type": "scatterpolar"
           }
          ],
          "scatterpolargl": [
           {
            "marker": {
             "colorbar": {
              "outlinewidth": 0,
              "ticks": ""
             }
            },
            "type": "scatterpolargl"
           }
          ],
          "scatterternary": [
           {
            "marker": {
             "colorbar": {
              "outlinewidth": 0,
              "ticks": ""
             }
            },
            "type": "scatterternary"
           }
          ],
          "surface": [
           {
            "colorbar": {
             "outlinewidth": 0,
             "ticks": ""
            },
            "colorscale": [
             [
              0,
              "#0d0887"
             ],
             [
              0.1111111111111111,
              "#46039f"
             ],
             [
              0.2222222222222222,
              "#7201a8"
             ],
             [
              0.3333333333333333,
              "#9c179e"
             ],
             [
              0.4444444444444444,
              "#bd3786"
             ],
             [
              0.5555555555555556,
              "#d8576b"
             ],
             [
              0.6666666666666666,
              "#ed7953"
             ],
             [
              0.7777777777777778,
              "#fb9f3a"
             ],
             [
              0.8888888888888888,
              "#fdca26"
             ],
             [
              1,
              "#f0f921"
             ]
            ],
            "type": "surface"
           }
          ],
          "table": [
           {
            "cells": {
             "fill": {
              "color": "#EBF0F8"
             },
             "line": {
              "color": "white"
             }
            },
            "header": {
             "fill": {
              "color": "#C8D4E3"
             },
             "line": {
              "color": "white"
             }
            },
            "type": "table"
           }
          ]
         },
         "layout": {
          "annotationdefaults": {
           "arrowcolor": "#2a3f5f",
           "arrowhead": 0,
           "arrowwidth": 1
          },
          "autotypenumbers": "strict",
          "coloraxis": {
           "colorbar": {
            "outlinewidth": 0,
            "ticks": ""
           }
          },
          "colorscale": {
           "diverging": [
            [
             0,
             "#8e0152"
            ],
            [
             0.1,
             "#c51b7d"
            ],
            [
             0.2,
             "#de77ae"
            ],
            [
             0.3,
             "#f1b6da"
            ],
            [
             0.4,
             "#fde0ef"
            ],
            [
             0.5,
             "#f7f7f7"
            ],
            [
             0.6,
             "#e6f5d0"
            ],
            [
             0.7,
             "#b8e186"
            ],
            [
             0.8,
             "#7fbc41"
            ],
            [
             0.9,
             "#4d9221"
            ],
            [
             1,
             "#276419"
            ]
           ],
           "sequential": [
            [
             0,
             "#0d0887"
            ],
            [
             0.1111111111111111,
             "#46039f"
            ],
            [
             0.2222222222222222,
             "#7201a8"
            ],
            [
             0.3333333333333333,
             "#9c179e"
            ],
            [
             0.4444444444444444,
             "#bd3786"
            ],
            [
             0.5555555555555556,
             "#d8576b"
            ],
            [
             0.6666666666666666,
             "#ed7953"
            ],
            [
             0.7777777777777778,
             "#fb9f3a"
            ],
            [
             0.8888888888888888,
             "#fdca26"
            ],
            [
             1,
             "#f0f921"
            ]
           ],
           "sequentialminus": [
            [
             0,
             "#0d0887"
            ],
            [
             0.1111111111111111,
             "#46039f"
            ],
            [
             0.2222222222222222,
             "#7201a8"
            ],
            [
             0.3333333333333333,
             "#9c179e"
            ],
            [
             0.4444444444444444,
             "#bd3786"
            ],
            [
             0.5555555555555556,
             "#d8576b"
            ],
            [
             0.6666666666666666,
             "#ed7953"
            ],
            [
             0.7777777777777778,
             "#fb9f3a"
            ],
            [
             0.8888888888888888,
             "#fdca26"
            ],
            [
             1,
             "#f0f921"
            ]
           ]
          },
          "colorway": [
           "#636efa",
           "#EF553B",
           "#00cc96",
           "#ab63fa",
           "#FFA15A",
           "#19d3f3",
           "#FF6692",
           "#B6E880",
           "#FF97FF",
           "#FECB52"
          ],
          "font": {
           "color": "#2a3f5f"
          },
          "geo": {
           "bgcolor": "white",
           "lakecolor": "white",
           "landcolor": "#E5ECF6",
           "showlakes": true,
           "showland": true,
           "subunitcolor": "white"
          },
          "hoverlabel": {
           "align": "left"
          },
          "hovermode": "closest",
          "mapbox": {
           "style": "light"
          },
          "paper_bgcolor": "white",
          "plot_bgcolor": "#E5ECF6",
          "polar": {
           "angularaxis": {
            "gridcolor": "white",
            "linecolor": "white",
            "ticks": ""
           },
           "bgcolor": "#E5ECF6",
           "radialaxis": {
            "gridcolor": "white",
            "linecolor": "white",
            "ticks": ""
           }
          },
          "scene": {
           "xaxis": {
            "backgroundcolor": "#E5ECF6",
            "gridcolor": "white",
            "gridwidth": 2,
            "linecolor": "white",
            "showbackground": true,
            "ticks": "",
            "zerolinecolor": "white"
           },
           "yaxis": {
            "backgroundcolor": "#E5ECF6",
            "gridcolor": "white",
            "gridwidth": 2,
            "linecolor": "white",
            "showbackground": true,
            "ticks": "",
            "zerolinecolor": "white"
           },
           "zaxis": {
            "backgroundcolor": "#E5ECF6",
            "gridcolor": "white",
            "gridwidth": 2,
            "linecolor": "white",
            "showbackground": true,
            "ticks": "",
            "zerolinecolor": "white"
           }
          },
          "shapedefaults": {
           "line": {
            "color": "#2a3f5f"
           }
          },
          "ternary": {
           "aaxis": {
            "gridcolor": "white",
            "linecolor": "white",
            "ticks": ""
           },
           "baxis": {
            "gridcolor": "white",
            "linecolor": "white",
            "ticks": ""
           },
           "bgcolor": "#E5ECF6",
           "caxis": {
            "gridcolor": "white",
            "linecolor": "white",
            "ticks": ""
           }
          },
          "title": {
           "x": 0.05
          },
          "xaxis": {
           "automargin": true,
           "gridcolor": "white",
           "linecolor": "white",
           "ticks": "",
           "title": {
            "standoff": 15
           },
           "zerolinecolor": "white",
           "zerolinewidth": 2
          },
          "yaxis": {
           "automargin": true,
           "gridcolor": "white",
           "linecolor": "white",
           "ticks": "",
           "title": {
            "standoff": 15
           },
           "zerolinecolor": "white",
           "zerolinewidth": 2
          }
         }
        },
        "title": {
         "text": "RMSE y MAE vs. max_depth"
        },
        "xaxis": {
         "anchor": "y",
         "domain": [
          0,
          1
         ],
         "title": {
          "text": "x"
         }
        },
        "yaxis": {
         "anchor": "x",
         "domain": [
          0,
          1
         ],
         "title": {
          "text": "value"
         }
        }
       }
      }
     },
     "metadata": {},
     "output_type": "display_data"
    }
   ],
   "source": [
    "\"\"\"Grafica de RMSE y MAE vs max_depth\"\"\"\n",
    "\n",
    "df = pd.DataFrame({\n",
    "    'x': max_depth_range,\n",
    "    'RMSE': rmse,\n",
    "    'MAE': mae\n",
    "})\n",
    "\n",
    "fig = px.line(df, x='x', y=['RMSE', 'MAE'],\n",
    "              title='RMSE y MAE vs. max_depth')\n",
    "fig.show()"
   ]
  },
  {
   "cell_type": "markdown",
   "metadata": {},
   "source": [
    "***\n",
    "De la gráfica se puede ver que se logra un menor RMSE y MAE cuando la profundidad del árbol es igual a 8. Esta profundidad logra un buen balance entre sesgo y varianza en el set de entrenamiento.\n",
    "\n",
    "También se puede resaltar que a medida que la profundidad aumenta, el error disminuye inicialmente, ya que el modelo es capaz de capturar mejor la complejidad de los datos. Sin embargo, a partir de cierta profundidad, el error tiende a estabilizarse, indicando que seguir incrementando la profundidad no genera mejoras significativas y podría llevar a sobreajuste."
   ]
  },
  {
   "cell_type": "code",
   "execution_count": 9,
   "metadata": {
    "scrolled": true
   },
   "outputs": [
    {
     "name": "stdout",
     "output_type": "stream",
     "text": [
      "RMSE promedio del árbol en la muestra de test: 1595.627\n",
      "MAE promedio del árbol en la muestra de test: 1173.190\n"
     ]
    }
   ],
   "source": [
    "#Se hace validación cruzada con la muestra completa para evaluar el desempeño general del árbol con max_depth=8 a través del RMSE y MAE\n",
    "rmse_cv=[]\n",
    "mae_cv=[]\n",
    "\n",
    "#kFolds de 5 splits\n",
    "kf = KFold(n_splits=5, shuffle=True, random_state=42)\n",
    "\n",
    "#Loop para validación cruzada\n",
    "for train_index, test_index in kf.split(X):\n",
    "\n",
    "    X_np=np.array(X)\n",
    "    y_np=np.array(y)\n",
    "\n",
    "    \n",
    "    X_train, X_test = X_np[train_index], X_np[test_index]\n",
    "    y_train, y_test = y_np[train_index], y_np[test_index]\n",
    "\n",
    "    #Entrenamiento del arbol con max_depth=8\n",
    "    arbol_8=crear_arbol(X_train,y_train,8)\n",
    "    #Predicción del árbol\n",
    "    y_pred=predecir_arbol(X_test,arbol_8)\n",
    "\n",
    "    #Se agregan los resultados de RMSE y MAE de cada fold\n",
    "    rmse_cv.append(np.sqrt(mean_squared_error(y_test, y_pred)))\n",
    "    mae_cv.append(mean_absolute_error(y_test,y_pred))\n",
    "    \n",
    "print(f\"RMSE promedio del árbol en la muestra de test: {sum(rmse_cv)/len(rmse_cv):.3f}\")\n",
    "print(f\"MAE promedio del árbol en la muestra de test: {sum(mae_cv)/len(mae_cv):.3f}\")"
   ]
  },
  {
   "cell_type": "markdown",
   "metadata": {},
   "source": [
    "### Punto 2 - Bagging manual\n",
    "\n",
    "En la celda 2 creen un modelo bagging **manualmente** con 10 árboles de regresión y comenten sobre el desempeño del modelo."
   ]
  },
  {
   "cell_type": "code",
   "execution_count": 10,
   "metadata": {},
   "outputs": [
    {
     "name": "stdout",
     "output_type": "stream",
     "text": [
      "RMSE del bagging manual en la muestra de test: 1546.792\n",
      "MAE del bagging manual en la muestra de test: 1139.018\n"
     ]
    }
   ],
   "source": [
    "num_arboles=10\n",
    "\n",
    "rmse_cv=[]\n",
    "mae_cv=[]\n",
    "\n",
    "#kFolds de 5 splits\n",
    "kf = KFold(n_splits=5, shuffle=True, random_state=42)\n",
    "\n",
    "#Loop para validación cruzada\n",
    "for train_index, test_index in kf.split(X):\n",
    "\n",
    "    X_np=np.array(X)\n",
    "    y_np=np.array(y)\n",
    "    pred_arbol=[]\n",
    "    #Conjunto de entrenamiento y test del split\n",
    "    X_train, X_test = X_np[train_index], X_np[test_index]\n",
    "    y_train, y_test = y_np[train_index], y_np[test_index]\n",
    "\n",
    "    #Loop para entrenar cada arbol de regresión para el bagging del split de la validación cruzada\n",
    "    for i in range(num_arboles):\n",
    "    \n",
    "        #Muestra de bootstrap con reemplazo\n",
    "        rng = np.random.default_rng(seed=i)  # semilla reproducible por cada árbol\n",
    "        indices = rng.choice(X_train.shape[0], size=X_train.shape[0], replace=True)\n",
    "        X_train_temp = X_train[indices]\n",
    "        y_train_temp = y_train[indices]\n",
    "    \n",
    "        #Entrenar el árbol con max_depth=8\n",
    "        arbol=DecisionTreeRegressor(max_depth=8)\n",
    "        arbol.fit(X_train_temp,y_train_temp)\n",
    "    \n",
    "        #Predecir el árbol\n",
    "        y_pred=arbol.predict(X_test)\n",
    "        pred_arbol.append(y_pred)\n",
    "    \n",
    "    #Promedio de las predicciones del bagging\n",
    "    y_pred_prom=np.mean(pred_arbol, axis=0)\n",
    "\n",
    "    #Guarda el RMSE y MAE de cada bagging de la validación cruzada\n",
    "    rmse_cv.append(np.sqrt(mean_squared_error(y_test, y_pred_prom)))\n",
    "    mae_cv.append(mean_absolute_error(y_test,y_pred_prom))\n",
    "\n",
    "print(f\"RMSE del bagging manual en la muestra de test: {sum(rmse_cv)/len(rmse_cv):.3f}\")\n",
    "print(f\"MAE del bagging manual en la muestra de test: {sum(mae_cv)/len(mae_cv):.3f}\")"
   ]
  },
  {
   "cell_type": "markdown",
   "metadata": {},
   "source": [
    "***\n",
    "Se obtiene un RMSE de 1546 y un MAE de 1138, reflejando un mejor desempeño que el árbol único calibrado en el punto anteror y probando así las ventajas de hacer este tipo de ensamblaje (lo cual confirma que el bagging ayuda a reducir la varianza del modelo y mejora su capacidad de generalización)."
   ]
  },
  {
   "cell_type": "markdown",
   "metadata": {},
   "source": [
    "### Punto 3 - Bagging con librería\n",
    "\n",
    "En la celda 3, con la librería sklearn, entrenen un modelo bagging con 10 árboles de regresión y el parámetro `max_features` igual a `log(n_features)` y comenten sobre el desempeño del modelo."
   ]
  },
  {
   "cell_type": "markdown",
   "metadata": {},
   "source": [
    "***\n",
    "Si se limita el parámetro max_features del árbol del Bagging igual a log(n_features) mejora ligeramente el desempeño del modelo respecto a si no se limita. Si se compara con respecto al bagging manual, el desempeño solo mejora el MAE pero no el MSE."
   ]
  },
  {
   "cell_type": "code",
   "execution_count": 11,
   "metadata": {},
   "outputs": [
    {
     "name": "stdout",
     "output_type": "stream",
     "text": [
      "RMSE promedio del bagging con librearía en la muestra de test sin restricción de max_features: 1549.753\n",
      "MAE promedio del bagging con librería en la muestra de test sin restricción de max_features: 1140.478\n"
     ]
    }
   ],
   "source": [
    "rmse_cv=[]\n",
    "mae_cv=[]\n",
    "\n",
    "#kFolds de 5 splits\n",
    "kf = KFold(n_splits=5, shuffle=True, random_state=42)\n",
    "\n",
    "#Loop para validación cruzada\n",
    "for train_index, test_index in kf.split(X):\n",
    "\n",
    "    X_np=np.array(X)\n",
    "    y_np=np.array(y)\n",
    "\n",
    "    #Conjunto de entrenamiento y test del split\n",
    "    X_train, X_test = X_np[train_index], X_np[test_index]\n",
    "    y_train, y_test = y_np[train_index], y_np[test_index]\n",
    "\n",
    "    bagreg = BaggingRegressor(DecisionTreeRegressor(max_depth=8), n_estimators=10,bootstrap=True, oob_score=True)\n",
    "\n",
    "    bagreg.fit(X_train, y_train)\n",
    "    y_pred = bagreg.predict(X_test)\n",
    "\n",
    "    rmse_cv.append(np.sqrt(mean_squared_error(y_test, y_pred)))\n",
    "    mae_cv.append(mean_absolute_error(y_test,y_pred))\n",
    "\n",
    "print(f\"RMSE promedio del bagging con librearía en la muestra de test sin restricción de max_features: {sum(rmse_cv)/len(rmse_cv):.3f}\")\n",
    "print(f\"MAE promedio del bagging con librería en la muestra de test sin restricción de max_features: {sum(mae_cv)/len(mae_cv):.3f}\")"
   ]
  },
  {
   "cell_type": "markdown",
   "metadata": {},
   "source": [
    "Ahora, con la restricción de max_features:"
   ]
  },
  {
   "cell_type": "code",
   "execution_count": 12,
   "metadata": {},
   "outputs": [
    {
     "name": "stdout",
     "output_type": "stream",
     "text": [
      "RMSE promedio del bagging con librería y max_features = log2: 1541.059\n",
      "MAE promedio del bagging con librería y max_features = log2: 1137.929\n"
     ]
    }
   ],
   "source": [
    "from sklearn.ensemble import BaggingRegressor\n",
    "from sklearn.tree import DecisionTreeRegressor\n",
    "from sklearn.model_selection import KFold\n",
    "from sklearn.metrics import mean_squared_error, mean_absolute_error\n",
    "import numpy as np\n",
    "\n",
    "rmse_cv = []\n",
    "mae_cv = []\n",
    "\n",
    "# Calcular log2 del número de variables predictoras\n",
    "import math\n",
    "n_features = X.shape[1]\n",
    "max_feat_log = math.floor(math.log2(n_features))  # valor entero de log2(n_features)\n",
    "\n",
    "# K-Folds de 5 splits\n",
    "kf = KFold(n_splits=5, shuffle=True, random_state=42)\n",
    "\n",
    "# Loop para validación cruzada\n",
    "for train_index, test_index in kf.split(X):\n",
    "    X_np = np.array(X)\n",
    "    y_np = np.array(y)\n",
    "\n",
    "    X_train, X_test = X_np[train_index], X_np[test_index]\n",
    "    y_train, y_test = y_np[train_index], y_np[test_index]\n",
    "\n",
    "    # Modelo de Bagging con max_features = log2(n_features)\n",
    "    bagreg = BaggingRegressor(\n",
    "        estimator=DecisionTreeRegressor(max_depth=8, max_features=max_feat_log),\n",
    "        n_estimators=10,\n",
    "        bootstrap=True,\n",
    "        oob_score=True,\n",
    "        random_state=42\n",
    "    )\n",
    "\n",
    "    bagreg.fit(X_train, y_train)\n",
    "    y_pred = bagreg.predict(X_test)\n",
    "\n",
    "    rmse_cv.append(np.sqrt(mean_squared_error(y_test, y_pred)))\n",
    "    mae_cv.append(mean_absolute_error(y_test, y_pred))\n",
    "\n",
    "print(f\"RMSE promedio del bagging con librería y max_features = log2: {sum(rmse_cv)/len(rmse_cv):.3f}\")\n",
    "print(f\"MAE promedio del bagging con librería y max_features = log2: {sum(mae_cv)/len(mae_cv):.3f}\")\n",
    "\n"
   ]
  },
  {
   "cell_type": "markdown",
   "metadata": {},
   "source": [
    "Se obtiene un RMSE promedio de 1541.059 y un MAE promedio de 1137.929 al aplicar bagging con la librería sklearn usando 10 árboles y el parámetro max_features = log2(n_features).\n",
    "Aqui se confirma que el uso de subconjuntos aleatorios de variables (max_features) en los árboles base puede seguir mejorando la generalización del modelo al reducir la correlación entre los estimadores individuales, manteniendo baja la varianza del mismo."
   ]
  },
  {
   "cell_type": "markdown",
   "metadata": {},
   "source": [
    "### Punto 4 - Random forest con librería\n",
    "\n",
    "En la celda 4, usando la librería sklearn entrenen un modelo de Randon Forest para regresión  y comenten sobre el desempeño del modelo."
   ]
  },
  {
   "cell_type": "code",
   "execution_count": 13,
   "metadata": {},
   "outputs": [
    {
     "name": "stdout",
     "output_type": "stream",
     "text": [
      "RMSE del modelo en test: 1718.666\n",
      "MAE del modelo en test: 1282.473\n"
     ]
    }
   ],
   "source": [
    "from sklearn.ensemble import RandomForestRegressor\n",
    "from sklearn.model_selection import cross_val_score\n",
    "from sklearn.metrics import mean_squared_error\n",
    "\n",
    "# Definición del modelo Random Forest para regresión\n",
    "reg = RandomForestRegressor(random_state=0)\n",
    "reg.fit(X_train, y_train)\n",
    "\n",
    "# Validación cruzada con 10 folds (cv=10) usando MSE\n",
    "scores = cross_val_score(reg, X, y, cv=10, scoring='neg_mean_squared_error')\n",
    "rmse_scores = np.sqrt(-scores)\n",
    "\n",
    "# Predicciones en el conjunto de prueba\n",
    "y_pred = reg.predict(X_test)\n",
    "\n",
    "# Cálculo del RMSE en el conjunto de prueba\n",
    "mse = mean_squared_error(y_test, y_pred)\n",
    "rmse = np.sqrt(mse)\n",
    "mae_test = mean_absolute_error(y_test, y_pred)\n",
    "\n",
    "# Mostrar resultado\n",
    "print(f\"RMSE del modelo en test: {rmse:.3f}\")\n",
    "print(f\"MAE del modelo en test: {mae_test:.3f}\")"
   ]
  },
  {
   "cell_type": "markdown",
   "metadata": {},
   "source": [
    "De acuerdo con el resultado del RMSE, se puede inferir que existen algunas predicciones con errores altos. Frente al MAE, señala que el modelo se equivoca aproximadamente en $1.282 por observación. Hasta este punto se están obteniendo resultados con un peor desempeño en comparación con el modelo de Bagging con librería y con el Bagging manual, lo que refuerza la importancia de calibrar los hiperparámetros del Random Forest."
   ]
  },
  {
   "cell_type": "markdown",
   "metadata": {},
   "source": [
    "### Punto 5 - Calibración de parámetros Random forest\n",
    "\n",
    "En la celda 5, calibren los parámetros max_depth, max_features y n_estimators del modelo de Randon Forest para regresión, comenten sobre el desempeño del modelo y describan cómo cada parámetro afecta el desempeño del modelo."
   ]
  },
  {
   "cell_type": "code",
   "execution_count": 14,
   "metadata": {},
   "outputs": [
    {
     "name": "stdout",
     "output_type": "stream",
     "text": [
      "n_estimators: 30, RMSE: 1747.98\n",
      "n_estimators: 60, RMSE: 1744.17\n",
      "n_estimators: 90, RMSE: 1743.56\n",
      "n_estimators: 120, RMSE: 1743.12\n",
      "n_estimators: 150, RMSE: 1741.67\n",
      "n_estimators: 180, RMSE: 1742.07\n",
      "n_estimators: 210, RMSE: 1742.35\n",
      "n_estimators: 240, RMSE: 1741.92\n",
      "n_estimators: 270, RMSE: 1741.50\n",
      "n_estimators: 300, RMSE: 1741.26\n",
      "\n",
      "Mejor n_estimators: 300 con RMSE: 1741.26\n"
     ]
    }
   ],
   "source": [
    "# Calibración de n_estimators\n",
    "# # Creación de lista de valores para iterar sobre diferentes valores de n_estimators\n",
    "estimator_range = range(30, 310, 30)\n",
    "\n",
    "# Definición de lista para almacenar la exactitud (RMSE) promedio para cada valor de n_estimators\n",
    "rmse_scores = []\n",
    "\n",
    "# Uso de un 5-fold cross-validation para cada valor de n_estimators\n",
    "for estimator in estimator_range:\n",
    "    reg = RandomForestRegressor(n_estimators=estimator, random_state=1, n_jobs=-1)\n",
    "    scores = cross_val_score(reg, X, y, cv=5, scoring='neg_mean_squared_error')\n",
    "    rmse = np.sqrt(-scores.mean())\n",
    "    rmse_scores.append(rmse)\n",
    "    print(f\"n_estimators: {estimator}, RMSE: {rmse:.2f}\")\n",
    "\n",
    "# Encontrar el valor óptimo de n_estimators\n",
    "optimal_estimator = estimator_range[rmse_scores.index(min(rmse_scores))]\n",
    "print(f\"\\nMejor n_estimators: {optimal_estimator} con RMSE: {min(rmse_scores):.2f}\")"
   ]
  },
  {
   "cell_type": "markdown",
   "metadata": {},
   "source": [
    "A medida que aumenta el n_estimators, el RMSE disminuye. Sin embargo, desde 180 en adelante ya son estables. n_estimators de 300 da el menor RMSE. En la gráfica se confirma dicha información:"
   ]
  },
  {
   "cell_type": "code",
   "execution_count": 15,
   "metadata": {},
   "outputs": [
    {
     "data": {
      "image/png": "[encoded data removed]",
      "text/plain": [
       "<Figure size 640x480 with 1 Axes>"
      ]
     },
     "metadata": {},
     "output_type": "display_data"
    }
   ],
   "source": [
    "# Gráfica del desempeño del modelo vs la cantidad de n_estimators\n",
    "import matplotlib.pyplot as plt\n",
    "plt.plot(estimator_range, rmse_scores)\n",
    "plt.xlabel('n_estimators')\n",
    "plt.ylabel('RMSE')\n",
    "plt.show()"
   ]
  },
  {
   "cell_type": "code",
   "execution_count": 16,
   "metadata": {},
   "outputs": [
    {
     "name": "stdout",
     "output_type": "stream",
     "text": [
      "max_features: 1, RMSE: 1770.69\n",
      "max_features: 2, RMSE: 1770.16\n",
      "max_features: 3, RMSE: 1769.97\n",
      "max_features: 4, RMSE: 1767.14\n",
      "max_features: 5, RMSE: 1762.67\n",
      "max_features: 6, RMSE: 1759.10\n",
      "max_features: 7, RMSE: 1753.39\n",
      "max_features: 8, RMSE: 1746.97\n",
      "max_features: 9, RMSE: 1741.26\n",
      "\n",
      "Mejor max_features: 9 con RMSE: 1741.26\n"
     ]
    }
   ],
   "source": [
    "# Calibración de max_features\n",
    "# # Creación de lista de valores para iterar sobre diferentes valores de max_features\n",
    "feature_range = range(1, X.shape[1] + 1)\n",
    "\n",
    "# Definición de lista para almacenar la exactitud (RMSE) promedio para cada valor de max_features\n",
    "rmse_scores = []\n",
    "\n",
    "# Uso de un 10-fold cross-validation para cada valor de max_features\n",
    "for feature in feature_range:\n",
    "    reg = RandomForestRegressor(n_estimators=300, max_features=feature, random_state=1, n_jobs=-1)\n",
    "    scores = cross_val_score(reg, X, y, cv=5, scoring='neg_mean_squared_error')\n",
    "    rmse = np.sqrt(-scores.mean())\n",
    "    rmse_scores.append(rmse)\n",
    "    print(f\"max_features: {feature}, RMSE: {rmse:.2f}\")\n",
    "\n",
    "# Encontrar el valor óptimo de max_features\n",
    "optimal_feature = feature_range[rmse_scores.index(min(rmse_scores))]\n",
    "print(f\"\\nMejor max_features: {optimal_feature} con RMSE: {min(rmse_scores):.2f}\")"
   ]
  },
  {
   "cell_type": "markdown",
   "metadata": {},
   "source": [
    "A medida que aumenta el valor de max_features, el error promedio (RMSE) disminuye. El mejor resultado lo da max_features = 9, con el menor RMSE. La siguiente gráfica permite visualizar el resultado."
   ]
  },
  {
   "cell_type": "code",
   "execution_count": 17,
   "metadata": {},
   "outputs": [
    {
     "data": {
      "image/png": "[encoded data removed]",
      "text/plain": [
       "<Figure size 640x480 with 1 Axes>"
      ]
     },
     "metadata": {},
     "output_type": "display_data"
    }
   ],
   "source": [
    "# Gráfica del desempeño del modelo vs la cantidad de max_features\n",
    "plt.plot(feature_range, rmse_scores)\n",
    "plt.xlabel('max_features')\n",
    "plt.ylabel('RMSE')\n",
    "plt.show()"
   ]
  },
  {
   "cell_type": "code",
   "execution_count": 18,
   "metadata": {},
   "outputs": [
    {
     "name": "stdout",
     "output_type": "stream",
     "text": [
      "max_depth: 2, RMSE: 2052.79\n",
      "max_depth: 3, RMSE: 1833.46\n",
      "max_depth: 4, RMSE: 1696.48\n",
      "max_depth: 5, RMSE: 1612.68\n",
      "max_depth: 6, RMSE: 1566.17\n",
      "max_depth: 7, RMSE: 1543.65\n",
      "max_depth: 8, RMSE: 1535.94\n",
      "max_depth: 9, RMSE: 1540.56\n",
      "\n",
      "Mejor max_depth: 8 con RMSE: 1535.94\n"
     ]
    }
   ],
   "source": [
    "# Calibración de max_depth\n",
    "# Valores a probar para max_depth\n",
    "depth_range = range(2, 10)\n",
    "\n",
    "# Lista para guardar los RMSE promedio\n",
    "rmse_scores = []\n",
    "\n",
    "# Validación cruzada para cada valor de max_depth\n",
    "for depth in depth_range:\n",
    "    reg = RandomForestRegressor(n_estimators=300, max_depth=depth, random_state=1, n_jobs=-1)\n",
    "    scores = cross_val_score(reg, X, y, cv=5, scoring='neg_mean_squared_error')\n",
    "    rmse = np.sqrt(-scores.mean())\n",
    "    rmse_scores.append(rmse)\n",
    "    print(f\"max_depth: {depth}, RMSE: {rmse:.2f}\")\n",
    "\n",
    "# Encontrar el valor óptimo de max_depth\n",
    "optimal_depth = depth_range[rmse_scores.index(min(rmse_scores))]\n",
    "print(f\"\\nMejor max_depth: {optimal_depth} con RMSE: {min(rmse_scores):.2f}\")"
   ]
  },
  {
   "cell_type": "code",
   "execution_count": 19,
   "metadata": {},
   "outputs": [
    {
     "name": "stdout",
     "output_type": "stream",
     "text": [
      "RMSE del modelo en test: 1525.743\n",
      "MAE del modelo en test: 1128.304\n"
     ]
    }
   ],
   "source": [
    "# Definición del modelo con los parámetros max_features=9 y n_estimators=300\n",
    "reg = RandomForestRegressor(n_estimators=300, max_features=9, max_depth=8, random_state=1, n_jobs=-1)\n",
    "reg.fit(X_train, y_train)\n",
    "\n",
    "# Validación cruzada con 10 folds (cv=10) usando MSE\n",
    "scores = cross_val_score(reg, X, y, cv=10, scoring='neg_mean_squared_error')\n",
    "rmse_scores = np.sqrt(-scores)\n",
    "\n",
    "# Predicciones en el conjunto de prueba\n",
    "y_pred = reg.predict(X_test)\n",
    "\n",
    "# Cálculo del RMSE en el conjunto de prueba\n",
    "mse = mean_squared_error(y_test, y_pred)\n",
    "rmse = np.sqrt(mse)\n",
    "mae_test = mean_absolute_error(y_test, y_pred)\n",
    "\n",
    "# Mostrar resultado\n",
    "print(f\"RMSE del modelo en test: {rmse:.3f}\")\n",
    "print(f\"MAE del modelo en test: {mae_test:.3f}\")"
   ]
  },
  {
   "cell_type": "markdown",
   "metadata": {},
   "source": [
    "Al utilizar el modelo con 300 árboles, se obtiene un modelo con mayor estabilidad y capacidad de generalización. Además, en cada división de los árboles, se seleccionan aleatoriamente 9 variables predictoras, lo cual introduce diversidad en las particiones y contribuye a reducir el sobreajuste.\n",
    "En cuanto a las métricas de desempeño, el RMSE refleja que el modelo penaliza más fuertemente los outliers, mientras que el MAE indica que, en promedio, el modelo se equivoca aproximadamente $1,128 por predicción, lo que representa un nivel de error aceptable en relación con el rango de precios del conjunto de datos."
   ]
  },
  {
   "cell_type": "code",
   "execution_count": 20,
   "metadata": {},
   "outputs": [
    {
     "data": {
      "image/png": "[encoded data removed]",
      "text/plain": [
       "<Figure size 640x480 with 1 Axes>"
      ]
     },
     "metadata": {},
     "output_type": "display_data"
    }
   ],
   "source": [
    "# Impresión de resultados de desempeño del modelo\n",
    "feature_cols = X.columns\n",
    "pd.DataFrame({'feature':feature_cols, 'importance':reg.feature_importances_}).sort_values('importance').plot(x='feature', y='importance', kind='barh')\n",
    "plt.show()"
   ]
  },
  {
   "cell_type": "markdown",
   "metadata": {},
   "source": [
    "Según la gráfica de importancia de variables obtenida del modelo Random Forest, la variable Year (año del vehículo) es, con diferencia, el predictor más influyente en la estimación del precio, lo cual es coherente con el hecho de que vehículos más nuevos tienden a tener mayor valor de mercado. Le sigue Mileage (kilometraje), lo que también resulta esperable, ya que un menor recorrido suele asociarse a mejor estado del vehículo.\n",
    "\n",
    "Las demás variables presentan contribuciones significativamente menores, lo que sugiere que su efecto sobre el precio es más limitado o bien está parcialmente explicado por las variables principales."
   ]
  },
  {
   "cell_type": "markdown",
   "metadata": {},
   "source": [
    "### Punto 6 - XGBoost con librería\n",
    "\n",
    "En la celda 6 implementen un modelo XGBoost de regresión con la librería sklearn y comenten sobre el desempeño del modelo."
   ]
  },
  {
   "cell_type": "code",
   "execution_count": 21,
   "metadata": {},
   "outputs": [
    {
     "name": "stdout",
     "output_type": "stream",
     "text": [
      "RMSE del modelo XGBoost: 1573.00\n",
      "MAE del modelo XGBoost: 1163.91\n"
     ]
    }
   ],
   "source": [
    "# Importación y definición de modelo XGBRegressor\n",
    "from xgboost import XGBRegressor\n",
    "from sklearn.metrics import mean_squared_error, mean_absolute_error\n",
    "import numpy as np\n",
    "\n",
    "# Entrenamiento del modelo\n",
    "reg = XGBRegressor(random_state=42)\n",
    "reg.fit(X_train, y_train)\n",
    "\n",
    "# Predicciones\n",
    "y_pred = reg.predict(X_test)\n",
    "\n",
    "# Evaluación\n",
    "mse = mean_squared_error(y_test, y_pred)\n",
    "rmse = np.sqrt(mse)\n",
    "mae = mean_absolute_error(y_test, y_pred)\n",
    "\n",
    "# Resultados\n",
    "print(f\"RMSE del modelo XGBoost: {rmse:.2f}\")\n",
    "print(f\"MAE del modelo XGBoost: {mae:.2f}\")\n",
    "\n"
   ]
  },
  {
   "cell_type": "markdown",
   "metadata": {},
   "source": [
    "Teniendo en cuenta el RMSE, el modelo comete errores promedio de aproximadamente 1.573.\n",
    "El MAE, indica que, en promedio, el modelo se equivoca por 1.164 el predecir el valor real."
   ]
  },
  {
   "cell_type": "markdown",
   "metadata": {},
   "source": [
    "### Punto 7 - Calibración de parámetros XGBoost\n",
    "\n",
    "En la celda 7 calibren los parámetros learning rate, gamma y colsample_bytree del modelo XGBoost para regresión, comenten sobre el desempeño del modelo y describan cómo cada parámetro afecta el desempeño del modelo."
   ]
  },
  {
   "cell_type": "code",
   "execution_count": 22,
   "metadata": {},
   "outputs": [
    {
     "name": "stdout",
     "output_type": "stream",
     "text": [
      "lr: 0.01, gamma: 0, colsample_bytree: 0.3, RMSE: 2892.97\n",
      "lr: 0.01, gamma: 0, colsample_bytree: 0.5, RMSE: 2373.85\n",
      "lr: 0.01, gamma: 0, colsample_bytree: 0.7, RMSE: 2099.86\n",
      "lr: 0.01, gamma: 0, colsample_bytree: 1.0, RMSE: 2048.65\n",
      "lr: 0.01, gamma: 1, colsample_bytree: 0.3, RMSE: 2892.97\n",
      "lr: 0.01, gamma: 1, colsample_bytree: 0.5, RMSE: 2373.85\n",
      "lr: 0.01, gamma: 1, colsample_bytree: 0.7, RMSE: 2099.86\n",
      "lr: 0.01, gamma: 1, colsample_bytree: 1.0, RMSE: 2048.65\n",
      "lr: 0.01, gamma: 5, colsample_bytree: 0.3, RMSE: 2892.97\n",
      "lr: 0.01, gamma: 5, colsample_bytree: 0.5, RMSE: 2373.85\n",
      "lr: 0.01, gamma: 5, colsample_bytree: 0.7, RMSE: 2099.86\n",
      "lr: 0.01, gamma: 5, colsample_bytree: 1.0, RMSE: 2048.65\n",
      "lr: 0.05, gamma: 0, colsample_bytree: 0.3, RMSE: 1712.92\n",
      "lr: 0.05, gamma: 0, colsample_bytree: 0.5, RMSE: 1532.90\n",
      "lr: 0.05, gamma: 0, colsample_bytree: 0.7, RMSE: 1514.59\n",
      "lr: 0.05, gamma: 0, colsample_bytree: 1.0, RMSE: 1520.36\n",
      "lr: 0.05, gamma: 1, colsample_bytree: 0.3, RMSE: 1712.92\n",
      "lr: 0.05, gamma: 1, colsample_bytree: 0.5, RMSE: 1532.90\n",
      "lr: 0.05, gamma: 1, colsample_bytree: 0.7, RMSE: 1514.59\n",
      "lr: 0.05, gamma: 1, colsample_bytree: 1.0, RMSE: 1520.36\n",
      "lr: 0.05, gamma: 5, colsample_bytree: 0.3, RMSE: 1712.92\n",
      "lr: 0.05, gamma: 5, colsample_bytree: 0.5, RMSE: 1532.90\n",
      "lr: 0.05, gamma: 5, colsample_bytree: 0.7, RMSE: 1514.59\n",
      "lr: 0.05, gamma: 5, colsample_bytree: 1.0, RMSE: 1520.36\n",
      "lr: 0.1, gamma: 0, colsample_bytree: 0.3, RMSE: 1571.01\n",
      "lr: 0.1, gamma: 0, colsample_bytree: 0.5, RMSE: 1519.07\n",
      "lr: 0.1, gamma: 0, colsample_bytree: 0.7, RMSE: 1521.19\n",
      "lr: 0.1, gamma: 0, colsample_bytree: 1.0, RMSE: 1530.41\n",
      "lr: 0.1, gamma: 1, colsample_bytree: 0.3, RMSE: 1571.01\n",
      "lr: 0.1, gamma: 1, colsample_bytree: 0.5, RMSE: 1519.07\n",
      "lr: 0.1, gamma: 1, colsample_bytree: 0.7, RMSE: 1521.19\n",
      "lr: 0.1, gamma: 1, colsample_bytree: 1.0, RMSE: 1530.41\n",
      "lr: 0.1, gamma: 5, colsample_bytree: 0.3, RMSE: 1571.01\n",
      "lr: 0.1, gamma: 5, colsample_bytree: 0.5, RMSE: 1519.07\n",
      "lr: 0.1, gamma: 5, colsample_bytree: 0.7, RMSE: 1521.19\n",
      "lr: 0.1, gamma: 5, colsample_bytree: 1.0, RMSE: 1530.41\n",
      "lr: 0.2, gamma: 0, colsample_bytree: 0.3, RMSE: 1538.78\n",
      "lr: 0.2, gamma: 0, colsample_bytree: 0.5, RMSE: 1529.03\n",
      "lr: 0.2, gamma: 0, colsample_bytree: 0.7, RMSE: 1536.72\n",
      "lr: 0.2, gamma: 0, colsample_bytree: 1.0, RMSE: 1555.03\n",
      "lr: 0.2, gamma: 1, colsample_bytree: 0.3, RMSE: 1538.78\n",
      "lr: 0.2, gamma: 1, colsample_bytree: 0.5, RMSE: 1529.03\n",
      "lr: 0.2, gamma: 1, colsample_bytree: 0.7, RMSE: 1536.72\n",
      "lr: 0.2, gamma: 1, colsample_bytree: 1.0, RMSE: 1555.03\n",
      "lr: 0.2, gamma: 5, colsample_bytree: 0.3, RMSE: 1538.78\n",
      "lr: 0.2, gamma: 5, colsample_bytree: 0.5, RMSE: 1529.03\n",
      "lr: 0.2, gamma: 5, colsample_bytree: 0.7, RMSE: 1536.72\n",
      "lr: 0.2, gamma: 5, colsample_bytree: 1.0, RMSE: 1555.03\n",
      "\n",
      "Mejor combinación -> learning_rate: 0.05, gamma: 0, colsample_bytree: 0.7, RMSE: 1514.59\n"
     ]
    }
   ],
   "source": [
    "from xgboost import XGBRegressor\n",
    "from sklearn.model_selection import cross_val_score\n",
    "import numpy as np\n",
    "\n",
    "# Rangos de valores para calibrar\n",
    "learning_rates = [0.01, 0.05, 0.1, 0.2]\n",
    "gammas = [0, 1, 5]\n",
    "colsample_values = [0.3, 0.5, 0.7, 1.0]\n",
    "\n",
    "# Guardar resultados\n",
    "results = []\n",
    "\n",
    "for lr in learning_rates:\n",
    "    for gamma in gammas:\n",
    "        for colsample in colsample_values:\n",
    "            model = XGBRegressor(\n",
    "                learning_rate=lr,\n",
    "                gamma=gamma,\n",
    "                colsample_bytree=colsample,\n",
    "                n_estimators=100,\n",
    "                random_state=42,\n",
    "                n_jobs=-1\n",
    "            )\n",
    "            scores = cross_val_score(model, X, y, cv=5, scoring='neg_mean_squared_error')\n",
    "            rmse = np.sqrt(-scores.mean())\n",
    "            results.append((lr, gamma, colsample, rmse))\n",
    "            print(f\"lr: {lr}, gamma: {gamma}, colsample_bytree: {colsample}, RMSE: {rmse:.2f}\")\n",
    "\n",
    "# Encontrar combinación óptima\n",
    "best = min(results, key=lambda x: x[3])\n",
    "print(f\"\\nMejor combinación -> learning_rate: {best[0]}, gamma: {best[1]}, colsample_bytree: {best[2]}, RMSE: {best[3]:.2f}\")\n"
   ]
  },
  {
   "cell_type": "markdown",
   "metadata": {},
   "source": [
    "Luego de realizar la calibración de los parámetros learning_rate, gamma y colsample_bytree, se obtuvo la mejor combinación con los siguientes valores:\n",
    "learning_rate: 0.05\n",
    "gamma: 0\n",
    "colsample_bytree: 0.7\n",
    "RMSE: 1514.59\n",
    "\n",
    "Esta combinación generó un mejor desempeño frente al modelo XGBoost por defecto, lo que indica que una adecuada calibración puede mejorar considerablemente la capacidad predictiva del modelo.\n",
    "\n",
    "learning_rate: controla la velocidad de aprendizaje del modelo. Un valor 0.05 es bajo, lo que permite un aprendizaje más gradual y reduce el riesgo de sobreajuste, aunque requiere más árboles para converger. En este caso, logró mejorar la generalización del modelo.\n",
    "\n",
    "gamma: regula la complejidad del modelo al controlar si una división de un nodo debe realizarse. Un gamma de 0 indica que el modelo no penaliza la creación de particiones, permitiendo una mayor profundidad en los árboles. Esto puede ser beneficioso si los datos requieren modelos más complejos para captar patrones.\n",
    "\n",
    "colsample_bytree: determina la proporción de variables que se seleccionan aleatoriamente para cada árbol. Un valor de 0.7 (se usa solo el 70% de las variables en cada árbol) introduce diversidad en los árboles y reduce la varianza, ayudando a evitar el sobreajuste. En este caso, fue clave para lograr un mejor desempeño.\n",
    "\n",
    "En conclusión, calibrar estos hiperparámetros permitió obtener un modelo más preciso y robusto, con un RMSE inferior al modelo base de XGBoost."
   ]
  },
  {
   "cell_type": "code",
   "execution_count": 23,
   "metadata": {},
   "outputs": [
    {
     "name": "stdout",
     "output_type": "stream",
     "text": [
      "RMSE del modelo XGBoost calibrado: 1502.67\n",
      "MAE del modelo XGBoost calibrado: 1106.40\n"
     ]
    },
    {
     "data": {
      "image/png": "[encoded data removed]",
      "text/plain": [
       "<Figure size 640x480 with 1 Axes>"
      ]
     },
     "metadata": {},
     "output_type": "display_data"
    }
   ],
   "source": [
    "# Entrenamiento del modelo con los mejores hiperparámetros encontrados\n",
    "from xgboost import XGBRegressor, plot_importance\n",
    "from sklearn.metrics import mean_squared_error, mean_absolute_error\n",
    "import matplotlib.pyplot as plt\n",
    "\n",
    "# Modelo ajustado\n",
    "reg = XGBRegressor(learning_rate=0.05, gamma=0, colsample_bytree=0.7, random_state=1)\n",
    "reg.fit(X_train, y_train)\n",
    "\n",
    "# Predicciones sobre el conjunto de prueba\n",
    "y_pred = reg.predict(X_test)\n",
    "\n",
    "# Cálculo de métricas\n",
    "rmse = np.sqrt(mean_squared_error(y_test, y_pred))\n",
    "mae = mean_absolute_error(y_test, y_pred)\n",
    "\n",
    "print(f\"RMSE del modelo XGBoost calibrado: {rmse:.2f}\")\n",
    "print(f\"MAE del modelo XGBoost calibrado: {mae:.2f}\")\n",
    "\n",
    "# Asegurar que los nombres reales estén asignados al booster\n",
    "reg.get_booster().feature_names = list(X.columns)\n",
    "\n",
    "# Gráfico de importancia de variables\n",
    "plot_importance(reg)\n",
    "plt.title(\"Importancia de las variables - XGBoost\")\n",
    "plt.show()\n"
   ]
  },
  {
   "cell_type": "markdown",
   "metadata": {},
   "source": [
    "    ### Punto 8 - Comparación y análisis de resultados\n",
    "    En la celda 8 comparen los resultados obtenidos de los diferentes modelos (random forest y XGBoost) y comenten las ventajas del mejor modelo y las desventajas del modelo con el menor desempeño."
   ]
  },
  {
   "cell_type": "code",
   "execution_count": 24,
   "metadata": {},
   "outputs": [
    {
     "data": {
      "image/png": "[encoded data removed]",
      "text/plain": [
       "<Figure size 1000x600 with 1 Axes>"
      ]
     },
     "metadata": {},
     "output_type": "display_data"
    }
   ],
   "source": [
    "from sklearn.ensemble import RandomForestRegressor\n",
    "from xgboost import XGBRegressor\n",
    "from sklearn.metrics import mean_squared_error, mean_absolute_error\n",
    "import pandas as pd\n",
    "import matplotlib.pyplot as plt\n",
    "import seaborn as sns\n",
    "import numpy as np\n",
    "\n",
    "# Entrenamiento de modelos y predicciones\n",
    "results = []\n",
    "\n",
    "# Random Forest\n",
    "rf_model = RandomForestRegressor(n_estimators=300, max_depth=8, max_features=9, random_state=1, n_jobs=-1)\n",
    "rf_model.fit(X_train, y_train)\n",
    "rf_pred = rf_model.predict(X_test)\n",
    "rmse_rf = np.sqrt(mean_squared_error(y_test, rf_pred))\n",
    "mae_rf = mean_absolute_error(y_test, rf_pred)\n",
    "results.append(('Random Forest', 'RMSE', rmse_rf))\n",
    "results.append(('Random Forest', 'MAE', mae_rf))\n",
    "\n",
    "# XGBoost por defecto\n",
    "xgb_model = XGBRegressor(random_state=42)\n",
    "xgb_model.fit(X_train, y_train)\n",
    "xgb_pred = xgb_model.predict(X_test)\n",
    "rmse_xgb = np.sqrt(mean_squared_error(y_test, xgb_pred))\n",
    "mae_xgb = mean_absolute_error(y_test, xgb_pred)\n",
    "results.append(('XGBoost Default', 'RMSE', rmse_xgb))\n",
    "results.append(('XGBoost Default', 'MAE', mae_xgb))\n",
    "\n",
    "# XGBoost tuneado\n",
    "xgb_tuned = XGBRegressor(learning_rate=0.05, gamma=0, colsample_bytree=0.7, n_estimators=100, random_state=42, n_jobs=-1)\n",
    "xgb_tuned.fit(X_train, y_train)\n",
    "xgb_tuned_pred = xgb_tuned.predict(X_test)\n",
    "rmse_xgb_tuned = np.sqrt(mean_squared_error(y_test, xgb_tuned_pred))\n",
    "mae_xgb_tuned = mean_absolute_error(y_test, xgb_tuned_pred)\n",
    "results.append(('XGBoost Tuneado', 'RMSE', rmse_xgb_tuned))\n",
    "results.append(('XGBoost Tuneado', 'MAE', mae_xgb_tuned))\n",
    "\n",
    "# Crear DataFrame para graficar\n",
    "df = pd.DataFrame(results, columns=['Modelo', 'Métrica', 'Valor'])\n",
    "\n",
    "# Gráfico con etiquetas\n",
    "plt.figure(figsize=(10, 6))\n",
    "ax = sns.barplot(x='Métrica', y='Valor', hue='Modelo', data=df)\n",
    "plt.title('Comparación de desempeño por métrica')\n",
    "plt.ylabel('Error')\n",
    "plt.grid(axis='y', linestyle='--', alpha=0.7)\n",
    "\n",
    "# Agregar etiquetas a las barras\n",
    "for container in ax.containers:\n",
    "    ax.bar_label(container, fmt='%.2f', label_type='edge', padding=2)\n",
    "\n",
    "plt.tight_layout()\n",
    "plt.show()\n",
    "\n",
    "\n"
   ]
  },
  {
   "cell_type": "markdown",
   "metadata": {},
   "source": [
    "### Punto 8 - Comparación y análisis de resultados\n",
    "\n",
    "La comparación de los modelos muestra que el modelo con mejor desempeño fue el **XGBoost con parámetros calibrados** (learning_rate: 0.05, gamma: 0, colsample_bytree: 0.7), obteniendo el menor **RMSE** (1502.67) y el menor **MAE** (1106.40). Esto indica que, en promedio, este modelo comete errores más pequeños tanto en términos de desviaciones absolutas como cuadráticas.\n",
    "\n",
    "Por su parte, el modelo con menor desempeño fue el **XGBoost sin calibrar**, con un RMSE de 1573.00 y un MAE de 1163.91. Aunque sus resultados no son malos, muestran que la calibración de hiperparámetros puede mejorar notablemente la capacidad predictiva del modelo.\n",
    "\n",
    "El **Random Forest** se ubicó en un punto intermedio, con un RMSE de 1525.74 y un MAE de 1128.30. Este modelo se desempeñó mejor que el XGBoost sin calibrar, pero fue superado por el XGBoost calibrado.\n",
    "\n",
    "se concluye que calibrar entonces el modelo XGBoost:\n",
    "- Permite un mayor control sobre el aprendizaje mediante hiperparámetros como el `learning_rate`, `gamma` y `colsample_bytree`.\n",
    "- Logra un mejor ajuste al reducir tanto errores grandes (RMSE) como errores promedio (MAE).\n",
    "- Puede superar modelos por defecto si se ajusta correctamente.\n",
    "\n",
    "\n"
   ]
  }
 ],
 "metadata": {
  "kernelspec": {
   "display_name": "Python 3",
   "language": "python",
   "name": "python3"
  },
  "language_info": {
   "codemirror_mode": {
    "name": "ipython",
    "version": 3
   },
   "file_extension": ".py",
   "mimetype": "text/x-python",
   "name": "python",
   "nbconvert_exporter": "python",
   "pygments_lexer": "ipython3",
   "version": "3.12.6"
  }
 },
 "nbformat": 4,
 "nbformat_minor": 4
}
